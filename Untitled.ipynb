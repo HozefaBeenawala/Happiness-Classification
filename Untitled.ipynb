{
 "cells": [
  {
   "cell_type": "markdown",
   "id": "6e815494",
   "metadata": {},
   "source": [
    "A feeling of happiness while self introspecting is the major reason we indulge in our hobbies and choose places to live.\n",
    "\n",
    "This Dataset is based on a survey conducted where people rated different metrics of their city on a scale of 5 and answered if they are happy or unhappy.\n",
    "\n",
    "The goal of this dataset is to understand the important factors that play a role in making the residents of a city more happy with their lives.\n",
    "\n",
    "Data Dictionary:-\n",
    "\n",
    "infoavail = the availability of information about the city services\n",
    "housecost = the cost of housing\n",
    "schoolquality = the overall quality of public schools\n",
    "policetrust = your trust in the local police\n",
    "streetquality = the maintenance of streets and sidewalks\n",
    "events = the availability of social community events\n",
    "happy = decision attribute (D) with values 0 (unhappy) and 1 (happy)"
   ]
  },
  {
   "cell_type": "code",
   "execution_count": 1,
   "id": "e4d109af",
   "metadata": {},
   "outputs": [],
   "source": [
    "import pandas as pd\n",
    "import numpy as np\n",
    "import seaborn as sns\n",
    "import matplotlib.pyplot as plt\n",
    "%matplotlib inline"
   ]
  },
  {
   "cell_type": "code",
   "execution_count": 3,
   "id": "41edba18",
   "metadata": {},
   "outputs": [],
   "source": [
    "df = pd.read_csv('happydata.csv')"
   ]
  },
  {
   "cell_type": "code",
   "execution_count": 4,
   "id": "501bc1cf",
   "metadata": {},
   "outputs": [
    {
     "data": {
      "text/html": [
       "<div>\n",
       "<style scoped>\n",
       "    .dataframe tbody tr th:only-of-type {\n",
       "        vertical-align: middle;\n",
       "    }\n",
       "\n",
       "    .dataframe tbody tr th {\n",
       "        vertical-align: top;\n",
       "    }\n",
       "\n",
       "    .dataframe thead th {\n",
       "        text-align: right;\n",
       "    }\n",
       "</style>\n",
       "<table border=\"1\" class=\"dataframe\">\n",
       "  <thead>\n",
       "    <tr style=\"text-align: right;\">\n",
       "      <th></th>\n",
       "      <th>infoavail</th>\n",
       "      <th>housecost</th>\n",
       "      <th>schoolquality</th>\n",
       "      <th>policetrust</th>\n",
       "      <th>streetquality</th>\n",
       "      <th>ëvents</th>\n",
       "      <th>happy</th>\n",
       "    </tr>\n",
       "  </thead>\n",
       "  <tbody>\n",
       "    <tr>\n",
       "      <th>0</th>\n",
       "      <td>3</td>\n",
       "      <td>3</td>\n",
       "      <td>3</td>\n",
       "      <td>4</td>\n",
       "      <td>2</td>\n",
       "      <td>4</td>\n",
       "      <td>0</td>\n",
       "    </tr>\n",
       "    <tr>\n",
       "      <th>1</th>\n",
       "      <td>3</td>\n",
       "      <td>2</td>\n",
       "      <td>3</td>\n",
       "      <td>5</td>\n",
       "      <td>4</td>\n",
       "      <td>3</td>\n",
       "      <td>0</td>\n",
       "    </tr>\n",
       "    <tr>\n",
       "      <th>2</th>\n",
       "      <td>5</td>\n",
       "      <td>3</td>\n",
       "      <td>3</td>\n",
       "      <td>3</td>\n",
       "      <td>3</td>\n",
       "      <td>5</td>\n",
       "      <td>1</td>\n",
       "    </tr>\n",
       "    <tr>\n",
       "      <th>3</th>\n",
       "      <td>5</td>\n",
       "      <td>4</td>\n",
       "      <td>3</td>\n",
       "      <td>3</td>\n",
       "      <td>3</td>\n",
       "      <td>5</td>\n",
       "      <td>0</td>\n",
       "    </tr>\n",
       "    <tr>\n",
       "      <th>4</th>\n",
       "      <td>5</td>\n",
       "      <td>4</td>\n",
       "      <td>3</td>\n",
       "      <td>3</td>\n",
       "      <td>3</td>\n",
       "      <td>5</td>\n",
       "      <td>0</td>\n",
       "    </tr>\n",
       "  </tbody>\n",
       "</table>\n",
       "</div>"
      ],
      "text/plain": [
       "   infoavail  housecost  schoolquality  policetrust  streetquality  ëvents  \\\n",
       "0          3          3              3            4              2       4   \n",
       "1          3          2              3            5              4       3   \n",
       "2          5          3              3            3              3       5   \n",
       "3          5          4              3            3              3       5   \n",
       "4          5          4              3            3              3       5   \n",
       "\n",
       "   happy  \n",
       "0      0  \n",
       "1      0  \n",
       "2      1  \n",
       "3      0  \n",
       "4      0  "
      ]
     },
     "execution_count": 4,
     "metadata": {},
     "output_type": "execute_result"
    }
   ],
   "source": [
    "df.head()"
   ]
  },
  {
   "cell_type": "code",
   "execution_count": 5,
   "id": "bc95c0bf",
   "metadata": {},
   "outputs": [
    {
     "data": {
      "text/plain": [
       "(143, 7)"
      ]
     },
     "execution_count": 5,
     "metadata": {},
     "output_type": "execute_result"
    }
   ],
   "source": [
    "df.shape"
   ]
  },
  {
   "cell_type": "code",
   "execution_count": 6,
   "id": "a30c2d8d",
   "metadata": {},
   "outputs": [
    {
     "name": "stdout",
     "output_type": "stream",
     "text": [
      "<class 'pandas.core.frame.DataFrame'>\n",
      "RangeIndex: 143 entries, 0 to 142\n",
      "Data columns (total 7 columns):\n",
      " #   Column         Non-Null Count  Dtype\n",
      "---  ------         --------------  -----\n",
      " 0   infoavail      143 non-null    int64\n",
      " 1   housecost      143 non-null    int64\n",
      " 2   schoolquality  143 non-null    int64\n",
      " 3   policetrust    143 non-null    int64\n",
      " 4   streetquality  143 non-null    int64\n",
      " 5   ëvents         143 non-null    int64\n",
      " 6   happy          143 non-null    int64\n",
      "dtypes: int64(7)\n",
      "memory usage: 7.9 KB\n"
     ]
    }
   ],
   "source": [
    "df.info()"
   ]
  },
  {
   "cell_type": "code",
   "execution_count": 7,
   "id": "af4a08c3",
   "metadata": {},
   "outputs": [
    {
     "data": {
      "text/plain": [
       "infoavail        0\n",
       "housecost        0\n",
       "schoolquality    0\n",
       "policetrust      0\n",
       "streetquality    0\n",
       "ëvents           0\n",
       "happy            0\n",
       "dtype: int64"
      ]
     },
     "execution_count": 7,
     "metadata": {},
     "output_type": "execute_result"
    }
   ],
   "source": [
    "df.isnull().sum()"
   ]
  },
  {
   "cell_type": "code",
   "execution_count": 11,
   "id": "4eb4ed4e",
   "metadata": {},
   "outputs": [
    {
     "data": {
      "text/html": [
       "<div>\n",
       "<style scoped>\n",
       "    .dataframe tbody tr th:only-of-type {\n",
       "        vertical-align: middle;\n",
       "    }\n",
       "\n",
       "    .dataframe tbody tr th {\n",
       "        vertical-align: top;\n",
       "    }\n",
       "\n",
       "    .dataframe thead th {\n",
       "        text-align: right;\n",
       "    }\n",
       "</style>\n",
       "<table border=\"1\" class=\"dataframe\">\n",
       "  <thead>\n",
       "    <tr style=\"text-align: right;\">\n",
       "      <th></th>\n",
       "      <th>infoavail</th>\n",
       "      <th>housecost</th>\n",
       "      <th>schoolquality</th>\n",
       "      <th>policetrust</th>\n",
       "      <th>streetquality</th>\n",
       "      <th>ëvents</th>\n",
       "      <th>happy</th>\n",
       "    </tr>\n",
       "  </thead>\n",
       "  <tbody>\n",
       "    <tr>\n",
       "      <th>count</th>\n",
       "      <td>143.000000</td>\n",
       "      <td>143.000000</td>\n",
       "      <td>143.000000</td>\n",
       "      <td>143.000000</td>\n",
       "      <td>143.000000</td>\n",
       "      <td>143.000000</td>\n",
       "      <td>143.000000</td>\n",
       "    </tr>\n",
       "    <tr>\n",
       "      <th>mean</th>\n",
       "      <td>4.314685</td>\n",
       "      <td>2.538462</td>\n",
       "      <td>3.265734</td>\n",
       "      <td>3.699301</td>\n",
       "      <td>3.615385</td>\n",
       "      <td>4.216783</td>\n",
       "      <td>0.538462</td>\n",
       "    </tr>\n",
       "    <tr>\n",
       "      <th>std</th>\n",
       "      <td>0.799820</td>\n",
       "      <td>1.118155</td>\n",
       "      <td>0.992586</td>\n",
       "      <td>0.888383</td>\n",
       "      <td>1.131639</td>\n",
       "      <td>0.848693</td>\n",
       "      <td>0.500271</td>\n",
       "    </tr>\n",
       "    <tr>\n",
       "      <th>min</th>\n",
       "      <td>1.000000</td>\n",
       "      <td>1.000000</td>\n",
       "      <td>1.000000</td>\n",
       "      <td>1.000000</td>\n",
       "      <td>1.000000</td>\n",
       "      <td>1.000000</td>\n",
       "      <td>0.000000</td>\n",
       "    </tr>\n",
       "    <tr>\n",
       "      <th>25%</th>\n",
       "      <td>4.000000</td>\n",
       "      <td>2.000000</td>\n",
       "      <td>3.000000</td>\n",
       "      <td>3.000000</td>\n",
       "      <td>3.000000</td>\n",
       "      <td>4.000000</td>\n",
       "      <td>0.000000</td>\n",
       "    </tr>\n",
       "    <tr>\n",
       "      <th>50%</th>\n",
       "      <td>5.000000</td>\n",
       "      <td>3.000000</td>\n",
       "      <td>3.000000</td>\n",
       "      <td>4.000000</td>\n",
       "      <td>4.000000</td>\n",
       "      <td>4.000000</td>\n",
       "      <td>1.000000</td>\n",
       "    </tr>\n",
       "    <tr>\n",
       "      <th>75%</th>\n",
       "      <td>5.000000</td>\n",
       "      <td>3.000000</td>\n",
       "      <td>4.000000</td>\n",
       "      <td>4.000000</td>\n",
       "      <td>4.000000</td>\n",
       "      <td>5.000000</td>\n",
       "      <td>1.000000</td>\n",
       "    </tr>\n",
       "    <tr>\n",
       "      <th>max</th>\n",
       "      <td>5.000000</td>\n",
       "      <td>5.000000</td>\n",
       "      <td>5.000000</td>\n",
       "      <td>5.000000</td>\n",
       "      <td>5.000000</td>\n",
       "      <td>5.000000</td>\n",
       "      <td>1.000000</td>\n",
       "    </tr>\n",
       "  </tbody>\n",
       "</table>\n",
       "</div>"
      ],
      "text/plain": [
       "        infoavail   housecost  schoolquality  policetrust  streetquality  \\\n",
       "count  143.000000  143.000000     143.000000   143.000000     143.000000   \n",
       "mean     4.314685    2.538462       3.265734     3.699301       3.615385   \n",
       "std      0.799820    1.118155       0.992586     0.888383       1.131639   \n",
       "min      1.000000    1.000000       1.000000     1.000000       1.000000   \n",
       "25%      4.000000    2.000000       3.000000     3.000000       3.000000   \n",
       "50%      5.000000    3.000000       3.000000     4.000000       4.000000   \n",
       "75%      5.000000    3.000000       4.000000     4.000000       4.000000   \n",
       "max      5.000000    5.000000       5.000000     5.000000       5.000000   \n",
       "\n",
       "           ëvents       happy  \n",
       "count  143.000000  143.000000  \n",
       "mean     4.216783    0.538462  \n",
       "std      0.848693    0.500271  \n",
       "min      1.000000    0.000000  \n",
       "25%      4.000000    0.000000  \n",
       "50%      4.000000    1.000000  \n",
       "75%      5.000000    1.000000  \n",
       "max      5.000000    1.000000  "
      ]
     },
     "execution_count": 11,
     "metadata": {},
     "output_type": "execute_result"
    }
   ],
   "source": [
    "df.describe()"
   ]
  },
  {
   "cell_type": "code",
   "execution_count": 13,
   "id": "d56970ab",
   "metadata": {},
   "outputs": [
    {
     "data": {
      "text/plain": [
       "1    77\n",
       "0    66\n",
       "Name: happy, dtype: int64"
      ]
     },
     "execution_count": 13,
     "metadata": {},
     "output_type": "execute_result"
    }
   ],
   "source": [
    "df['happy'].value_counts()"
   ]
  },
  {
   "cell_type": "code",
   "execution_count": 15,
   "id": "078c0ade",
   "metadata": {},
   "outputs": [
    {
     "data": {
      "image/png": "[encoded data removed]",
      "text/plain": [
       "<Figure size 432x288 with 1 Axes>"
      ]
     },
     "metadata": {},
     "output_type": "display_data"
    }
   ],
   "source": [
    "# Plot the pie chart\n",
    "plt.pie(df['happy'].value_counts(), labels=df['happy'].unique(), autopct='%1.1f%%')\n",
    "plt.title('Pie Chart')\n",
    "plt.axis('equal')  # Equal aspect ratio ensures that pie is drawn as a circle\n",
    "plt.show()"
   ]
  },
  {
   "cell_type": "code",
   "execution_count": 16,
   "id": "5693e073",
   "metadata": {},
   "outputs": [],
   "source": [
    "X=df.drop('happy',axis=1)\n",
    "y=df['happy']"
   ]
  },
  {
   "cell_type": "code",
   "execution_count": 17,
   "id": "6888441c",
   "metadata": {},
   "outputs": [
    {
     "name": "stdout",
     "output_type": "stream",
     "text": [
      "The recall_score is : 0.5882352941176471\n",
      "The f1_score is : 0.5882352941176471\n",
      "The precision_score is : 0.5882352941176471\n",
      "The accuracy_score is : 0.5172413793103449\n",
      "\n",
      "Mean training accuracy (5-fold CV): 0.56\n"
     ]
    }
   ],
   "source": [
    "#From Logistic Regression\n",
    "from sklearn.model_selection import train_test_split\n",
    "from sklearn.linear_model import LogisticRegression\n",
    "from sklearn.metrics import accuracy_score\n",
    "from sklearn.model_selection import cross_val_score\n",
    "from sklearn.metrics import recall_score, f1_score, accuracy_score, precision_score\n",
    "\n",
    "X_train, X_test, y_train, y_test = train_test_split(X, y, test_size=0.2, random_state=3)\n",
    "\n",
    "model_lr = LogisticRegression(random_state=3)\n",
    "\n",
    "model_lr.fit(X_train, y_train)\n",
    "\n",
    "y_pred = model_lr.predict(X_test)\n",
    "\n",
    "print(f'The recall_score is : {recall_score(y_test, y_pred)}')  \n",
    "print(f'The f1_score is : {f1_score(y_test, y_pred)}') \n",
    "print(f'The precision_score is : {precision_score(y_test, y_pred)}')  \n",
    "print(f'The accuracy_score is : {accuracy_score(y_test, y_pred)}\\n') \n",
    "\n",
    "\n",
    "scores = cross_val_score(model_lr, X_train, y_train, cv=5)\n",
    "mean_accuracy = scores.mean()\n",
    "\n",
    "print(f\"Mean training accuracy (5-fold CV): {mean_accuracy:.2f}\")"
   ]
  },
  {
   "cell_type": "code",
   "execution_count": 18,
   "id": "93c01f92",
   "metadata": {},
   "outputs": [
    {
     "data": {
      "text/plain": [
       "<AxesSubplot:>"
      ]
     },
     "execution_count": 18,
     "metadata": {},
     "output_type": "execute_result"
    },
    {
     "data": {
      "image/png": "[encoded data removed]",
      "text/plain": [
       "<Figure size 432x288 with 2 Axes>"
      ]
     },
     "metadata": {
      "needs_background": "light"
     },
     "output_type": "display_data"
    }
   ],
   "source": [
    "from sklearn.metrics import confusion_matrix\n",
    "cm = confusion_matrix(y_test, y_pred)\n",
    "sns.heatmap(cm, annot=True, cmap=\"Blues\")"
   ]
  },
  {
   "cell_type": "code",
   "execution_count": 19,
   "id": "572787fd",
   "metadata": {},
   "outputs": [
    {
     "name": "stdout",
     "output_type": "stream",
     "text": [
      "The recall_score is : 0.6470588235294118\n",
      "The f1_score is : 0.6470588235294118\n",
      "The precision_score is : 0.6470588235294118\n",
      "The accuracy_score is : 0.5862068965517241\n",
      "\n",
      "Mean training accuracy (5-fold CV): 0.55\n"
     ]
    }
   ],
   "source": [
    "#RandomForest Classifier\n",
    "from sklearn.ensemble import RandomForestClassifier\n",
    "\n",
    "model_rf = RandomForestClassifier(random_state=3)\n",
    "\n",
    "model_rf.fit(X_train, y_train)\n",
    "\n",
    "y_pred = model_rf.predict(X_test)\n",
    "\n",
    "print(f'The recall_score is : {recall_score(y_test, y_pred)}')  \n",
    "print(f'The f1_score is : {f1_score(y_test, y_pred)}') \n",
    "print(f'The precision_score is : {precision_score(y_test, y_pred)}')  \n",
    "print(f'The accuracy_score is : {accuracy_score(y_test, y_pred)}\\n') \n",
    "\n",
    "scores = cross_val_score(model_rf, X_train, y_train, cv=5)\n",
    "mean_accuracy = scores.mean()\n",
    "\n",
    "print(f\"Mean training accuracy (5-fold CV): {mean_accuracy:.2f}\")"
   ]
  },
  {
   "cell_type": "code",
   "execution_count": 20,
   "id": "7f0c821d",
   "metadata": {},
   "outputs": [
    {
     "data": {
      "text/plain": [
       "<AxesSubplot:>"
      ]
     },
     "execution_count": 20,
     "metadata": {},
     "output_type": "execute_result"
    },
    {
     "data": {
      "image/png": "[encoded data removed]",
      "text/plain": [
       "<Figure size 432x288 with 2 Axes>"
      ]
     },
     "metadata": {
      "needs_background": "light"
     },
     "output_type": "display_data"
    }
   ],
   "source": [
    "cm = confusion_matrix(y_test, y_pred)\n",
    "sns.heatmap(cm, annot=True, cmap=\"Blues\")"
   ]
  },
  {
   "cell_type": "code",
   "execution_count": 21,
   "id": "90f43b5b",
   "metadata": {},
   "outputs": [
    {
     "name": "stdout",
     "output_type": "stream",
     "text": [
      "The recall_score is : 0.7058823529411765\n",
      "The f1_score is : 0.7058823529411765\n",
      "The precision_score is : 0.7058823529411765\n",
      "The accuracy_score is : 0.6551724137931034\n",
      "\n",
      "Mean training accuracy (5-fold CV): 0.54\n"
     ]
    }
   ],
   "source": [
    "from sklearn.tree import DecisionTreeClassifier\n",
    "\n",
    "model_dt = DecisionTreeClassifier()\n",
    "\n",
    "model_dt.fit(X_train, y_train)\n",
    "\n",
    "y_pred = model_dt.predict(X_test)\n",
    "\n",
    "print(f'The recall_score is : {recall_score(y_test, y_pred)}')  \n",
    "print(f'The f1_score is : {f1_score(y_test, y_pred)}') \n",
    "print(f'The precision_score is : {precision_score(y_test, y_pred)}')  \n",
    "print(f'The accuracy_score is : {accuracy_score(y_test, y_pred)}\\n') \n",
    "\n",
    "scores = cross_val_score(model_dt, X_train, y_train, cv=5)\n",
    "mean_accuracy = scores.mean()\n",
    "\n",
    "print(f\"Mean training accuracy (5-fold CV): {mean_accuracy:.2f}\")"
   ]
  },
  {
   "cell_type": "code",
   "execution_count": 22,
   "id": "f115959a",
   "metadata": {},
   "outputs": [
    {
     "data": {
      "text/plain": [
       "<AxesSubplot:>"
      ]
     },
     "execution_count": 22,
     "metadata": {},
     "output_type": "execute_result"
    },
    {
     "data": {
      "image/png": "[encoded data removed]",
      "text/plain": [
       "<Figure size 432x288 with 2 Axes>"
      ]
     },
     "metadata": {
      "needs_background": "light"
     },
     "output_type": "display_data"
    }
   ],
   "source": [
    "cm = confusion_matrix(y_test, y_pred)\n",
    "sns.heatmap(cm, annot=True, cmap=\"Blues\")"
   ]
  },
  {
   "cell_type": "code",
   "execution_count": null,
   "id": "048de6a3",
   "metadata": {},
   "outputs": [],
   "source": []
  }
 ],
 "metadata": {
  "kernelspec": {
   "display_name": "Python 3 (ipykernel)",
   "language": "python",
   "name": "python3"
  },
  "language_info": {
   "codemirror_mode": {
    "name": "ipython",
    "version": 3
   },
   "file_extension": ".py",
   "mimetype": "text/x-python",
   "name": "python",
   "nbconvert_exporter": "python",
   "pygments_lexer": "ipython3",
   "version": "3.9.9"
  }
 },
 "nbformat": 4,
 "nbformat_minor": 5
}
